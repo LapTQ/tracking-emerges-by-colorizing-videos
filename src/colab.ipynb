{
 "cells": [
  {
   "cell_type": "code",
   "execution_count": null,
   "metadata": {},
   "outputs": [],
   "source": [
    "# install requirements\n",
    "!git clone https://github.com/LapTQ/tracking-emerges-by-colorizing-videos.git\n",
    "%cd tracking-emerges-by-colorizing-videos\n",
    "!git checkout dev\n",
    "!pip install -r requirements.txt"
   ]
  },
  {
   "cell_type": "code",
   "execution_count": null,
   "metadata": {},
   "outputs": [],
   "source": [
    "# update source code\n",
    "% cd ..\n",
    "!rm -r tracking-emerges-by-colorizing-videos\n",
    "!git clone https://github.com/LapTQ/tracking-emerges-by-colorizing-videos.git\n",
    "%cd tracking-emerges-by-colorizing-videos\n",
    "!git checkout dev"
   ]
  },
  {
   "cell_type": "code",
   "execution_count": null,
   "metadata": {},
   "outputs": [],
   "source": [
    "!chmod +x setup.sh\n",
    "!./setup.sh"
   ]
  },
  {
   "cell_type": "code",
   "execution_count": null,
   "metadata": {},
   "outputs": [],
   "source": [
    "!python3 src/main.py"
   ]
  }
 ],
 "metadata": {
  "language_info": {
   "name": "python"
  }
 },
 "nbformat": 4,
 "nbformat_minor": 2
}
